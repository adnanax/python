{
 "cells": [
  {
   "cell_type": "markdown",
   "metadata": {},
   "source": [
    "# Reading/Writing a CSV/Excel File in Pandas"
   ]
  },
  {
   "cell_type": "code",
   "execution_count": 1,
   "metadata": {},
   "outputs": [
    {
     "data": {
      "text/html": [
       "<div>\n",
       "<style scoped>\n",
       "    .dataframe tbody tr th:only-of-type {\n",
       "        vertical-align: middle;\n",
       "    }\n",
       "\n",
       "    .dataframe tbody tr th {\n",
       "        vertical-align: top;\n",
       "    }\n",
       "\n",
       "    .dataframe thead th {\n",
       "        text-align: right;\n",
       "    }\n",
       "</style>\n",
       "<table border=\"1\" class=\"dataframe\">\n",
       "  <thead>\n",
       "    <tr style=\"text-align: right;\">\n",
       "      <th></th>\n",
       "      <th>tickers</th>\n",
       "      <th>eps</th>\n",
       "      <th>revenue</th>\n",
       "      <th>price</th>\n",
       "      <th>people</th>\n",
       "    </tr>\n",
       "  </thead>\n",
       "  <tbody>\n",
       "    <tr>\n",
       "      <td>0</td>\n",
       "      <td>GOOGL</td>\n",
       "      <td>27.82</td>\n",
       "      <td>87</td>\n",
       "      <td>845</td>\n",
       "      <td>larry page</td>\n",
       "    </tr>\n",
       "    <tr>\n",
       "      <td>1</td>\n",
       "      <td>WMT</td>\n",
       "      <td>4.61</td>\n",
       "      <td>484</td>\n",
       "      <td>65</td>\n",
       "      <td>n.a.</td>\n",
       "    </tr>\n",
       "    <tr>\n",
       "      <td>2</td>\n",
       "      <td>MSFT</td>\n",
       "      <td>-1</td>\n",
       "      <td>85</td>\n",
       "      <td>64</td>\n",
       "      <td>bill gates</td>\n",
       "    </tr>\n",
       "    <tr>\n",
       "      <td>3</td>\n",
       "      <td>RIL</td>\n",
       "      <td>not available</td>\n",
       "      <td>50</td>\n",
       "      <td>1023</td>\n",
       "      <td>mukesh ambani</td>\n",
       "    </tr>\n",
       "    <tr>\n",
       "      <td>4</td>\n",
       "      <td>TATA</td>\n",
       "      <td>5.6</td>\n",
       "      <td>-1</td>\n",
       "      <td>n.a.</td>\n",
       "      <td>ratan tata</td>\n",
       "    </tr>\n",
       "  </tbody>\n",
       "</table>\n",
       "</div>"
      ],
      "text/plain": [
       "  tickers            eps  revenue price         people\n",
       "0   GOOGL          27.82       87   845     larry page\n",
       "1     WMT           4.61      484    65           n.a.\n",
       "2    MSFT             -1       85    64     bill gates\n",
       "3    RIL   not available       50  1023  mukesh ambani\n",
       "4    TATA            5.6       -1  n.a.     ratan tata"
      ]
     },
     "execution_count": 1,
     "metadata": {},
     "output_type": "execute_result"
    }
   ],
   "source": [
    "import pandas as pd\n",
    "df = pd.read_csv('E:\\\\DataSets\\\\stock_data.csv')\n",
    "df"
   ]
  },
  {
   "cell_type": "code",
   "execution_count": null,
   "metadata": {},
   "outputs": [],
   "source": []
  },
  {
   "cell_type": "code",
   "execution_count": null,
   "metadata": {},
   "outputs": [],
   "source": [
    "df = pd.read_csv('E:\\\\DataSets\\\\stock_data.csv', skiprows=1) # to skip the rows in the csv file while making a daraframe\n",
    "df = pd.read_csv('E:\\\\DataSets\\\\stock_data.csv',header = 1) # it sets the header of the dataframe to row 1(0 being the first)"
   ]
  },
  {
   "cell_type": "code",
   "execution_count": null,
   "metadata": {},
   "outputs": [],
   "source": [
    "#if you do not have headers in the file then you can add using names arguement and by setting header=None\n",
    "df = pd.read_csv('E:\\\\DataSets\\\\stock_data.csv', header=None, names=['tikcker','eps','revenue','price','people'])"
   ]
  },
  {
   "cell_type": "code",
   "execution_count": null,
   "metadata": {},
   "outputs": [],
   "source": [
    "df = pd.read_csv('E:\\\\DataSets\\\\stock_data.csv',nrows=3) # only read first three rows from the file excluding header"
   ]
  },
  {
   "cell_type": "code",
   "execution_count": 2,
   "metadata": {},
   "outputs": [
    {
     "data": {
      "text/html": [
       "<div>\n",
       "<style scoped>\n",
       "    .dataframe tbody tr th:only-of-type {\n",
       "        vertical-align: middle;\n",
       "    }\n",
       "\n",
       "    .dataframe tbody tr th {\n",
       "        vertical-align: top;\n",
       "    }\n",
       "\n",
       "    .dataframe thead th {\n",
       "        text-align: right;\n",
       "    }\n",
       "</style>\n",
       "<table border=\"1\" class=\"dataframe\">\n",
       "  <thead>\n",
       "    <tr style=\"text-align: right;\">\n",
       "      <th></th>\n",
       "      <th>tickers</th>\n",
       "      <th>eps</th>\n",
       "      <th>revenue</th>\n",
       "      <th>price</th>\n",
       "      <th>people</th>\n",
       "    </tr>\n",
       "  </thead>\n",
       "  <tbody>\n",
       "    <tr>\n",
       "      <td>0</td>\n",
       "      <td>GOOGL</td>\n",
       "      <td>27.82</td>\n",
       "      <td>87</td>\n",
       "      <td>845.0</td>\n",
       "      <td>larry page</td>\n",
       "    </tr>\n",
       "    <tr>\n",
       "      <td>1</td>\n",
       "      <td>WMT</td>\n",
       "      <td>4.61</td>\n",
       "      <td>484</td>\n",
       "      <td>65.0</td>\n",
       "      <td>NaN</td>\n",
       "    </tr>\n",
       "    <tr>\n",
       "      <td>2</td>\n",
       "      <td>MSFT</td>\n",
       "      <td>-1.00</td>\n",
       "      <td>85</td>\n",
       "      <td>64.0</td>\n",
       "      <td>bill gates</td>\n",
       "    </tr>\n",
       "    <tr>\n",
       "      <td>3</td>\n",
       "      <td>RIL</td>\n",
       "      <td>NaN</td>\n",
       "      <td>50</td>\n",
       "      <td>1023.0</td>\n",
       "      <td>mukesh ambani</td>\n",
       "    </tr>\n",
       "    <tr>\n",
       "      <td>4</td>\n",
       "      <td>TATA</td>\n",
       "      <td>5.60</td>\n",
       "      <td>-1</td>\n",
       "      <td>NaN</td>\n",
       "      <td>ratan tata</td>\n",
       "    </tr>\n",
       "  </tbody>\n",
       "</table>\n",
       "</div>"
      ],
      "text/plain": [
       "  tickers    eps  revenue   price         people\n",
       "0   GOOGL  27.82       87   845.0     larry page\n",
       "1     WMT   4.61      484    65.0            NaN\n",
       "2    MSFT  -1.00       85    64.0     bill gates\n",
       "3    RIL     NaN       50  1023.0  mukesh ambani\n",
       "4    TATA   5.60       -1     NaN     ratan tata"
      ]
     },
     "execution_count": 2,
     "metadata": {},
     "output_type": "execute_result"
    }
   ],
   "source": [
    "import pandas as pd\n",
    "df = pd.read_csv('E:\\\\DataSets\\\\stock_data.csv', na_values=['not available','n.a.']) # replaces with NaN\n",
    "df"
   ]
  },
  {
   "cell_type": "code",
   "execution_count": 5,
   "metadata": {},
   "outputs": [
    {
     "data": {
      "text/html": [
       "<div>\n",
       "<style scoped>\n",
       "    .dataframe tbody tr th:only-of-type {\n",
       "        vertical-align: middle;\n",
       "    }\n",
       "\n",
       "    .dataframe tbody tr th {\n",
       "        vertical-align: top;\n",
       "    }\n",
       "\n",
       "    .dataframe thead th {\n",
       "        text-align: right;\n",
       "    }\n",
       "</style>\n",
       "<table border=\"1\" class=\"dataframe\">\n",
       "  <thead>\n",
       "    <tr style=\"text-align: right;\">\n",
       "      <th></th>\n",
       "      <th>tickers</th>\n",
       "      <th>eps</th>\n",
       "      <th>revenue</th>\n",
       "      <th>price</th>\n",
       "      <th>people</th>\n",
       "    </tr>\n",
       "  </thead>\n",
       "  <tbody>\n",
       "    <tr>\n",
       "      <td>0</td>\n",
       "      <td>GOOGL</td>\n",
       "      <td>27.82</td>\n",
       "      <td>87.0</td>\n",
       "      <td>845.0</td>\n",
       "      <td>larry page</td>\n",
       "    </tr>\n",
       "    <tr>\n",
       "      <td>1</td>\n",
       "      <td>WMT</td>\n",
       "      <td>4.61</td>\n",
       "      <td>484.0</td>\n",
       "      <td>65.0</td>\n",
       "      <td>NaN</td>\n",
       "    </tr>\n",
       "    <tr>\n",
       "      <td>2</td>\n",
       "      <td>MSFT</td>\n",
       "      <td>-1.00</td>\n",
       "      <td>85.0</td>\n",
       "      <td>64.0</td>\n",
       "      <td>bill gates</td>\n",
       "    </tr>\n",
       "    <tr>\n",
       "      <td>3</td>\n",
       "      <td>RIL</td>\n",
       "      <td>NaN</td>\n",
       "      <td>50.0</td>\n",
       "      <td>1023.0</td>\n",
       "      <td>mukesh ambani</td>\n",
       "    </tr>\n",
       "    <tr>\n",
       "      <td>4</td>\n",
       "      <td>TATA</td>\n",
       "      <td>5.60</td>\n",
       "      <td>NaN</td>\n",
       "      <td>NaN</td>\n",
       "      <td>ratan tata</td>\n",
       "    </tr>\n",
       "  </tbody>\n",
       "</table>\n",
       "</div>"
      ],
      "text/plain": [
       "  tickers    eps  revenue   price         people\n",
       "0   GOOGL  27.82     87.0   845.0     larry page\n",
       "1     WMT   4.61    484.0    65.0            NaN\n",
       "2    MSFT  -1.00     85.0    64.0     bill gates\n",
       "3    RIL     NaN     50.0  1023.0  mukesh ambani\n",
       "4    TATA   5.60      NaN     NaN     ratan tata"
      ]
     },
     "execution_count": 5,
     "metadata": {},
     "output_type": "execute_result"
    }
   ],
   "source": [
    "import pandas as pd\n",
    "df = pd.read_csv('E:\\\\DataSets\\\\stock_data.csv', na_values={\n",
    "    'eps':['not available','n.a.'],\n",
    "    'revenue':['not available','n.a.',-1],\n",
    "    'people':['not available','n.a.'],\n",
    "    'price':['not available','n.a.']\n",
    "})\n",
    "df            # selectively replace '-1' wih 'NaN' usign dictionary. notice the '-1' in eps header."
   ]
  },
  {
   "cell_type": "code",
   "execution_count": 6,
   "metadata": {},
   "outputs": [],
   "source": [
    "df.to_csv('E:\\\\DataSets\\\\new.csv') #will create a new file containing the data in the dataframe"
   ]
  },
  {
   "cell_type": "code",
   "execution_count": 7,
   "metadata": {},
   "outputs": [],
   "source": [
    "df.to_csv('E:\\\\DataSets\\\\new.csv', index=False) # will create a csv file without the indices.(it will overwrite the prvious file)"
   ]
  },
  {
   "cell_type": "code",
   "execution_count": 8,
   "metadata": {},
   "outputs": [
    {
     "data": {
      "text/plain": [
       "Index(['tickers', 'eps', 'revenue', 'price', 'people'], dtype='object')"
      ]
     },
     "execution_count": 8,
     "metadata": {},
     "output_type": "execute_result"
    }
   ],
   "source": [
    "df.columns\n"
   ]
  },
  {
   "cell_type": "code",
   "execution_count": 9,
   "metadata": {},
   "outputs": [],
   "source": [
    "df.to_csv('E:\\\\DataSets\\\\new.csv',columns = ['tickers','eps']) # will create a csv with only two columns"
   ]
  },
  {
   "cell_type": "code",
   "execution_count": null,
   "metadata": {},
   "outputs": [],
   "source": [
    "df.to_csv('E:\\\\DataSets\\\\new.csv',header=False) # will create a csv without headers"
   ]
  },
  {
   "cell_type": "markdown",
   "metadata": {},
   "source": [
    "# Read/write Excel Files"
   ]
  },
  {
   "cell_type": "code",
   "execution_count": 11,
   "metadata": {},
   "outputs": [
    {
     "data": {
      "text/html": [
       "<div>\n",
       "<style scoped>\n",
       "    .dataframe tbody tr th:only-of-type {\n",
       "        vertical-align: middle;\n",
       "    }\n",
       "\n",
       "    .dataframe tbody tr th {\n",
       "        vertical-align: top;\n",
       "    }\n",
       "\n",
       "    .dataframe thead th {\n",
       "        text-align: right;\n",
       "    }\n",
       "</style>\n",
       "<table border=\"1\" class=\"dataframe\">\n",
       "  <thead>\n",
       "    <tr style=\"text-align: right;\">\n",
       "      <th></th>\n",
       "      <th>tickers</th>\n",
       "      <th>eps</th>\n",
       "      <th>revenue</th>\n",
       "      <th>price</th>\n",
       "      <th>people</th>\n",
       "    </tr>\n",
       "  </thead>\n",
       "  <tbody>\n",
       "    <tr>\n",
       "      <td>0</td>\n",
       "      <td>GOOGL</td>\n",
       "      <td>27.82</td>\n",
       "      <td>87</td>\n",
       "      <td>845</td>\n",
       "      <td>larry page</td>\n",
       "    </tr>\n",
       "    <tr>\n",
       "      <td>1</td>\n",
       "      <td>WMT</td>\n",
       "      <td>4.61</td>\n",
       "      <td>484</td>\n",
       "      <td>65</td>\n",
       "      <td>n.a.</td>\n",
       "    </tr>\n",
       "    <tr>\n",
       "      <td>2</td>\n",
       "      <td>MSFT</td>\n",
       "      <td>-1</td>\n",
       "      <td>85</td>\n",
       "      <td>64</td>\n",
       "      <td>bill gates</td>\n",
       "    </tr>\n",
       "    <tr>\n",
       "      <td>3</td>\n",
       "      <td>RIL</td>\n",
       "      <td>not available</td>\n",
       "      <td>50</td>\n",
       "      <td>1023</td>\n",
       "      <td>mukesh ambani</td>\n",
       "    </tr>\n",
       "    <tr>\n",
       "      <td>4</td>\n",
       "      <td>TATA</td>\n",
       "      <td>5.6</td>\n",
       "      <td>-1</td>\n",
       "      <td>n.a.</td>\n",
       "      <td>ratan tata</td>\n",
       "    </tr>\n",
       "  </tbody>\n",
       "</table>\n",
       "</div>"
      ],
      "text/plain": [
       "  tickers            eps  revenue price         people\n",
       "0   GOOGL          27.82       87   845     larry page\n",
       "1     WMT           4.61      484    65           n.a.\n",
       "2    MSFT             -1       85    64     bill gates\n",
       "3    RIL   not available       50  1023  mukesh ambani\n",
       "4    TATA            5.6       -1  n.a.     ratan tata"
      ]
     },
     "execution_count": 11,
     "metadata": {},
     "output_type": "execute_result"
    }
   ],
   "source": [
    "import pandas as pd\n",
    "df = pd.read_excel('E:\\\\DataSets\\\\stock_data.xlsx','Sheet1')\n",
    "df"
   ]
  },
  {
   "cell_type": "code",
   "execution_count": 15,
   "metadata": {},
   "outputs": [
    {
     "data": {
      "text/html": [
       "<div>\n",
       "<style scoped>\n",
       "    .dataframe tbody tr th:only-of-type {\n",
       "        vertical-align: middle;\n",
       "    }\n",
       "\n",
       "    .dataframe tbody tr th {\n",
       "        vertical-align: top;\n",
       "    }\n",
       "\n",
       "    .dataframe thead th {\n",
       "        text-align: right;\n",
       "    }\n",
       "</style>\n",
       "<table border=\"1\" class=\"dataframe\">\n",
       "  <thead>\n",
       "    <tr style=\"text-align: right;\">\n",
       "      <th></th>\n",
       "      <th>tickers</th>\n",
       "      <th>eps</th>\n",
       "      <th>revenue</th>\n",
       "      <th>price</th>\n",
       "      <th>people</th>\n",
       "    </tr>\n",
       "  </thead>\n",
       "  <tbody>\n",
       "    <tr>\n",
       "      <td>0</td>\n",
       "      <td>GOOGL</td>\n",
       "      <td>27.82</td>\n",
       "      <td>87</td>\n",
       "      <td>845</td>\n",
       "      <td>larry page</td>\n",
       "    </tr>\n",
       "    <tr>\n",
       "      <td>1</td>\n",
       "      <td>WMT</td>\n",
       "      <td>4.61</td>\n",
       "      <td>484</td>\n",
       "      <td>65</td>\n",
       "      <td>sam walton</td>\n",
       "    </tr>\n",
       "    <tr>\n",
       "      <td>2</td>\n",
       "      <td>MSFT</td>\n",
       "      <td>-1</td>\n",
       "      <td>85</td>\n",
       "      <td>64</td>\n",
       "      <td>bill gates</td>\n",
       "    </tr>\n",
       "    <tr>\n",
       "      <td>3</td>\n",
       "      <td>RIL</td>\n",
       "      <td>not available</td>\n",
       "      <td>50</td>\n",
       "      <td>1023</td>\n",
       "      <td>mukesh ambani</td>\n",
       "    </tr>\n",
       "    <tr>\n",
       "      <td>4</td>\n",
       "      <td>TATA</td>\n",
       "      <td>5.6</td>\n",
       "      <td>-1</td>\n",
       "      <td>n.a.</td>\n",
       "      <td>ratan tata</td>\n",
       "    </tr>\n",
       "  </tbody>\n",
       "</table>\n",
       "</div>"
      ],
      "text/plain": [
       "  tickers            eps  revenue price         people\n",
       "0   GOOGL          27.82       87   845     larry page\n",
       "1     WMT           4.61      484    65     sam walton\n",
       "2    MSFT             -1       85    64     bill gates\n",
       "3    RIL   not available       50  1023  mukesh ambani\n",
       "4    TATA            5.6       -1  n.a.     ratan tata"
      ]
     },
     "execution_count": 15,
     "metadata": {},
     "output_type": "execute_result"
    }
   ],
   "source": [
    "import pandas as pd\n",
    "def convert_people_cell(cell):\n",
    "    if cell=='n.a.':\n",
    "        return 'sam walton'\n",
    "    return cell\n",
    "df = pd.read_excel('E:\\\\DataSets\\\\stock_data.xlsx','Sheet1', converters = {\n",
    "    'people': convert_people_cell\n",
    "})\n",
    "df        #using a converters arguement to replace the n.a. withe person name:done using convert_people_cell function."
   ]
  },
  {
   "cell_type": "code",
   "execution_count": 21,
   "metadata": {},
   "outputs": [
    {
     "data": {
      "text/html": [
       "<div>\n",
       "<style scoped>\n",
       "    .dataframe tbody tr th:only-of-type {\n",
       "        vertical-align: middle;\n",
       "    }\n",
       "\n",
       "    .dataframe tbody tr th {\n",
       "        vertical-align: top;\n",
       "    }\n",
       "\n",
       "    .dataframe thead th {\n",
       "        text-align: right;\n",
       "    }\n",
       "</style>\n",
       "<table border=\"1\" class=\"dataframe\">\n",
       "  <thead>\n",
       "    <tr style=\"text-align: right;\">\n",
       "      <th></th>\n",
       "      <th>tickers</th>\n",
       "      <th>eps</th>\n",
       "      <th>revenue</th>\n",
       "      <th>price</th>\n",
       "      <th>people</th>\n",
       "    </tr>\n",
       "  </thead>\n",
       "  <tbody>\n",
       "    <tr>\n",
       "      <td>0</td>\n",
       "      <td>GOOGL</td>\n",
       "      <td>27.82</td>\n",
       "      <td>87</td>\n",
       "      <td>845</td>\n",
       "      <td>larry page</td>\n",
       "    </tr>\n",
       "    <tr>\n",
       "      <td>1</td>\n",
       "      <td>WMT</td>\n",
       "      <td>4.61</td>\n",
       "      <td>484</td>\n",
       "      <td>65</td>\n",
       "      <td>sam walton</td>\n",
       "    </tr>\n",
       "    <tr>\n",
       "      <td>2</td>\n",
       "      <td>MSFT</td>\n",
       "      <td>-1.00</td>\n",
       "      <td>85</td>\n",
       "      <td>64</td>\n",
       "      <td>bill gates</td>\n",
       "    </tr>\n",
       "    <tr>\n",
       "      <td>3</td>\n",
       "      <td>RIL</td>\n",
       "      <td>NaN</td>\n",
       "      <td>50</td>\n",
       "      <td>1023</td>\n",
       "      <td>mukesh ambani</td>\n",
       "    </tr>\n",
       "    <tr>\n",
       "      <td>4</td>\n",
       "      <td>TATA</td>\n",
       "      <td>5.60</td>\n",
       "      <td>-1</td>\n",
       "      <td>n.a.</td>\n",
       "      <td>ratan tata</td>\n",
       "    </tr>\n",
       "  </tbody>\n",
       "</table>\n",
       "</div>"
      ],
      "text/plain": [
       "  tickers    eps  revenue price         people\n",
       "0   GOOGL  27.82       87   845     larry page\n",
       "1     WMT   4.61      484    65     sam walton\n",
       "2    MSFT  -1.00       85    64     bill gates\n",
       "3    RIL     NaN       50  1023  mukesh ambani\n",
       "4    TATA   5.60       -1  n.a.     ratan tata"
      ]
     },
     "execution_count": 21,
     "metadata": {},
     "output_type": "execute_result"
    }
   ],
   "source": [
    "import pandas as pd\n",
    "def convert_people_cell(cell):\n",
    "    if cell=='n.a.':\n",
    "        return 'sam walton'\n",
    "    return cell\n",
    "def convert_eps_cell(cell):\n",
    "    if cell== 'not available':\n",
    "        return None\n",
    "    return cell\n",
    "df = pd.read_excel('E:\\\\DataSets\\\\stock_data.xlsx','Sheet1', converters = {\n",
    "    'people': convert_people_cell,\n",
    "    'eps': convert_eps_cell\n",
    "})\n",
    "df        #using a converters arguement to replace the n.a. withe person name:done using convert_people_cell function."
   ]
  },
  {
   "cell_type": "code",
   "execution_count": 24,
   "metadata": {},
   "outputs": [],
   "source": [
    "df.to_excel('E:\\\\DataSets\\\\new.xlsx', sheet_name='stocks')"
   ]
  },
  {
   "cell_type": "code",
   "execution_count": 26,
   "metadata": {},
   "outputs": [],
   "source": [
    "df.to_excel('E:\\\\DataSets\\\\new.xlsx', sheet_name='stocks', startrow=1,startcol=2) #start writing from row1 co"
   ]
  },
  {
   "cell_type": "code",
   "execution_count": 28,
   "metadata": {},
   "outputs": [],
   "source": [
    "df.to_excel('E:\\\\DataSets\\\\new.xlsx', sheet_name='stocks', index=False)\n"
   ]
  },
  {
   "cell_type": "markdown",
   "metadata": {},
   "source": [
    "# Writing two data frames in one excel file using Excel.Writer class"
   ]
  },
  {
   "cell_type": "code",
   "execution_count": 31,
   "metadata": {},
   "outputs": [],
   "source": [
    "df_stocks = pd.DataFrame({\n",
    "    'tickers':['Google','WMT','MSFT'],\n",
    "    'price': [845,65,64],\n",
    "    'pe': [30.37,14.26,30.97],\n",
    "    'eps': [27.82,4.61,2.12]\n",
    "})\n",
    "\n",
    "df_weather = pd.DataFrame({\n",
    "    'day': ['1/1/2017','1/2/2017','1/3/2017'],\n",
    "    'temperature': [32,35,28],\n",
    "    'event': ['Rain','Sunny','Snow']\n",
    "})\n"
   ]
  },
  {
   "cell_type": "code",
   "execution_count": 32,
   "metadata": {},
   "outputs": [],
   "source": [
    "with pd.ExcelWriter('E:\\\\DataSets\\\\stock_weather.xlsx') as writer:\n",
    "    df_stocks.to_excel(writer, sheet_name='stocks')\n",
    "    df_weather.to_excel(writer, sheet_name='weather')"
   ]
  }
 ],
 "metadata": {
  "kernelspec": {
   "display_name": "Python 3",
   "language": "python",
   "name": "python3"
  },
  "language_info": {
   "codemirror_mode": {
    "name": "ipython",
    "version": 3
   },
   "file_extension": ".py",
   "mimetype": "text/x-python",
   "name": "python",
   "nbconvert_exporter": "python",
   "pygments_lexer": "ipython3",
   "version": "3.7.4"
  }
 },
 "nbformat": 4,
 "nbformat_minor": 2
}
